{
 "cells": [
  {
   "cell_type": "markdown",
   "id": "7433ba4f",
   "metadata": {},
   "source": [
    "# <center><font color='Purple' face='comic sans ms'>NLP Project</font></center> "
   ]
  },
  {
   "cell_type": "code",
   "execution_count": 1,
   "id": "2c35c2e7",
   "metadata": {},
   "outputs": [],
   "source": [
    "import pandas as pd\n",
    "import matplotlib.pyplot as plt\n",
    "import seaborn as sns"
   ]
  },
  {
   "cell_type": "code",
   "execution_count": 2,
   "id": "a06c86af",
   "metadata": {},
   "outputs": [],
   "source": [
    "# Load the dataset\n",
    "title_df = pd.read_csv('netflix_titles.csv')"
   ]
  },
  {
   "cell_type": "code",
   "execution_count": 3,
   "id": "2c80ad80",
   "metadata": {},
   "outputs": [
    {
     "data": {
      "text/html": [
       "<div>\n",
       "<style scoped>\n",
       "    .dataframe tbody tr th:only-of-type {\n",
       "        vertical-align: middle;\n",
       "    }\n",
       "\n",
       "    .dataframe tbody tr th {\n",
       "        vertical-align: top;\n",
       "    }\n",
       "\n",
       "    .dataframe thead th {\n",
       "        text-align: right;\n",
       "    }\n",
       "</style>\n",
       "<table border=\"1\" class=\"dataframe\">\n",
       "  <thead>\n",
       "    <tr style=\"text-align: right;\">\n",
       "      <th></th>\n",
       "      <th>show_id</th>\n",
       "      <th>type</th>\n",
       "      <th>title</th>\n",
       "      <th>director</th>\n",
       "      <th>cast</th>\n",
       "      <th>country</th>\n",
       "      <th>date_added</th>\n",
       "      <th>release_year</th>\n",
       "      <th>rating</th>\n",
       "      <th>duration</th>\n",
       "      <th>listed_in</th>\n",
       "      <th>description</th>\n",
       "    </tr>\n",
       "  </thead>\n",
       "  <tbody>\n",
       "    <tr>\n",
       "      <th>8802</th>\n",
       "      <td>s8803</td>\n",
       "      <td>Movie</td>\n",
       "      <td>Zodiac</td>\n",
       "      <td>David Fincher</td>\n",
       "      <td>Mark Ruffalo, Jake Gyllenhaal, Robert Downey J...</td>\n",
       "      <td>United States</td>\n",
       "      <td>November 20, 2019</td>\n",
       "      <td>2007</td>\n",
       "      <td>R</td>\n",
       "      <td>158 min</td>\n",
       "      <td>Cult Movies, Dramas, Thrillers</td>\n",
       "      <td>A political cartoonist, a crime reporter and a...</td>\n",
       "    </tr>\n",
       "    <tr>\n",
       "      <th>8803</th>\n",
       "      <td>s8804</td>\n",
       "      <td>TV Show</td>\n",
       "      <td>Zombie Dumb</td>\n",
       "      <td>NaN</td>\n",
       "      <td>NaN</td>\n",
       "      <td>NaN</td>\n",
       "      <td>July 1, 2019</td>\n",
       "      <td>2018</td>\n",
       "      <td>TV-Y7</td>\n",
       "      <td>2 Seasons</td>\n",
       "      <td>Kids' TV, Korean TV Shows, TV Comedies</td>\n",
       "      <td>While living alone in a spooky town, a young g...</td>\n",
       "    </tr>\n",
       "    <tr>\n",
       "      <th>8804</th>\n",
       "      <td>s8805</td>\n",
       "      <td>Movie</td>\n",
       "      <td>Zombieland</td>\n",
       "      <td>Ruben Fleischer</td>\n",
       "      <td>Jesse Eisenberg, Woody Harrelson, Emma Stone, ...</td>\n",
       "      <td>United States</td>\n",
       "      <td>November 1, 2019</td>\n",
       "      <td>2009</td>\n",
       "      <td>R</td>\n",
       "      <td>88 min</td>\n",
       "      <td>Comedies, Horror Movies</td>\n",
       "      <td>Looking to survive in a world taken over by zo...</td>\n",
       "    </tr>\n",
       "    <tr>\n",
       "      <th>8805</th>\n",
       "      <td>s8806</td>\n",
       "      <td>Movie</td>\n",
       "      <td>Zoom</td>\n",
       "      <td>Peter Hewitt</td>\n",
       "      <td>Tim Allen, Courteney Cox, Chevy Chase, Kate Ma...</td>\n",
       "      <td>United States</td>\n",
       "      <td>January 11, 2020</td>\n",
       "      <td>2006</td>\n",
       "      <td>PG</td>\n",
       "      <td>88 min</td>\n",
       "      <td>Children &amp; Family Movies, Comedies</td>\n",
       "      <td>Dragged from civilian life, a former superhero...</td>\n",
       "    </tr>\n",
       "    <tr>\n",
       "      <th>8806</th>\n",
       "      <td>s8807</td>\n",
       "      <td>Movie</td>\n",
       "      <td>Zubaan</td>\n",
       "      <td>Mozez Singh</td>\n",
       "      <td>Vicky Kaushal, Sarah-Jane Dias, Raaghav Chanan...</td>\n",
       "      <td>India</td>\n",
       "      <td>March 2, 2019</td>\n",
       "      <td>2015</td>\n",
       "      <td>TV-14</td>\n",
       "      <td>111 min</td>\n",
       "      <td>Dramas, International Movies, Music &amp; Musicals</td>\n",
       "      <td>A scrappy but poor boy worms his way into a ty...</td>\n",
       "    </tr>\n",
       "  </tbody>\n",
       "</table>\n",
       "</div>"
      ],
      "text/plain": [
       "     show_id     type        title         director  \\\n",
       "8802   s8803    Movie       Zodiac    David Fincher   \n",
       "8803   s8804  TV Show  Zombie Dumb              NaN   \n",
       "8804   s8805    Movie   Zombieland  Ruben Fleischer   \n",
       "8805   s8806    Movie         Zoom     Peter Hewitt   \n",
       "8806   s8807    Movie       Zubaan      Mozez Singh   \n",
       "\n",
       "                                                   cast        country  \\\n",
       "8802  Mark Ruffalo, Jake Gyllenhaal, Robert Downey J...  United States   \n",
       "8803                                                NaN            NaN   \n",
       "8804  Jesse Eisenberg, Woody Harrelson, Emma Stone, ...  United States   \n",
       "8805  Tim Allen, Courteney Cox, Chevy Chase, Kate Ma...  United States   \n",
       "8806  Vicky Kaushal, Sarah-Jane Dias, Raaghav Chanan...          India   \n",
       "\n",
       "             date_added  release_year rating   duration  \\\n",
       "8802  November 20, 2019          2007      R    158 min   \n",
       "8803       July 1, 2019          2018  TV-Y7  2 Seasons   \n",
       "8804   November 1, 2019          2009      R     88 min   \n",
       "8805   January 11, 2020          2006     PG     88 min   \n",
       "8806      March 2, 2019          2015  TV-14    111 min   \n",
       "\n",
       "                                           listed_in  \\\n",
       "8802                  Cult Movies, Dramas, Thrillers   \n",
       "8803          Kids' TV, Korean TV Shows, TV Comedies   \n",
       "8804                         Comedies, Horror Movies   \n",
       "8805              Children & Family Movies, Comedies   \n",
       "8806  Dramas, International Movies, Music & Musicals   \n",
       "\n",
       "                                            description  \n",
       "8802  A political cartoonist, a crime reporter and a...  \n",
       "8803  While living alone in a spooky town, a young g...  \n",
       "8804  Looking to survive in a world taken over by zo...  \n",
       "8805  Dragged from civilian life, a former superhero...  \n",
       "8806  A scrappy but poor boy worms his way into a ty...  "
      ]
     },
     "execution_count": 3,
     "metadata": {},
     "output_type": "execute_result"
    }
   ],
   "source": [
    "title_df.tail()"
   ]
  },
  {
   "cell_type": "code",
   "execution_count": 4,
   "id": "ad3c302b",
   "metadata": {},
   "outputs": [
    {
     "name": "stdout",
     "output_type": "stream",
     "text": [
      "<class 'pandas.core.frame.DataFrame'>\n",
      "RangeIndex: 8807 entries, 0 to 8806\n",
      "Data columns (total 12 columns):\n",
      " #   Column        Non-Null Count  Dtype \n",
      "---  ------        --------------  ----- \n",
      " 0   show_id       8807 non-null   object\n",
      " 1   type          8807 non-null   object\n",
      " 2   title         8807 non-null   object\n",
      " 3   director      6173 non-null   object\n",
      " 4   cast          7982 non-null   object\n",
      " 5   country       7976 non-null   object\n",
      " 6   date_added    8797 non-null   object\n",
      " 7   release_year  8807 non-null   int64 \n",
      " 8   rating        8803 non-null   object\n",
      " 9   duration      8804 non-null   object\n",
      " 10  listed_in     8807 non-null   object\n",
      " 11  description   8807 non-null   object\n",
      "dtypes: int64(1), object(11)\n",
      "memory usage: 825.8+ KB\n",
      "None\n"
     ]
    }
   ],
   "source": [
    "# Check Info of both data sets \n",
    "print(title_df.info())"
   ]
  },
  {
   "cell_type": "code",
   "execution_count": 5,
   "id": "75d1e7c2",
   "metadata": {},
   "outputs": [
    {
     "data": {
      "text/plain": [
       "<bound method DataFrame.sum of       show_id   type  title  director   cast  country  date_added  \\\n",
       "0       False  False  False     False   True    False       False   \n",
       "1       False  False  False      True  False    False       False   \n",
       "2       False  False  False     False  False     True       False   \n",
       "3       False  False  False      True   True     True       False   \n",
       "4       False  False  False      True  False    False       False   \n",
       "...       ...    ...    ...       ...    ...      ...         ...   \n",
       "8802    False  False  False     False  False    False       False   \n",
       "8803    False  False  False      True   True     True       False   \n",
       "8804    False  False  False     False  False    False       False   \n",
       "8805    False  False  False     False  False    False       False   \n",
       "8806    False  False  False     False  False    False       False   \n",
       "\n",
       "      release_year  rating  duration  listed_in  description  \n",
       "0            False   False     False      False        False  \n",
       "1            False   False     False      False        False  \n",
       "2            False   False     False      False        False  \n",
       "3            False   False     False      False        False  \n",
       "4            False   False     False      False        False  \n",
       "...            ...     ...       ...        ...          ...  \n",
       "8802         False   False     False      False        False  \n",
       "8803         False   False     False      False        False  \n",
       "8804         False   False     False      False        False  \n",
       "8805         False   False     False      False        False  \n",
       "8806         False   False     False      False        False  \n",
       "\n",
       "[8807 rows x 12 columns]>"
      ]
     },
     "execution_count": 5,
     "metadata": {},
     "output_type": "execute_result"
    }
   ],
   "source": [
    "title_df.isnull().sum"
   ]
  },
  {
   "cell_type": "code",
   "execution_count": 6,
   "id": "9444dcab",
   "metadata": {},
   "outputs": [],
   "source": [
    "title_df = title_df.drop([\"show_id\"], axis=1)"
   ]
  },
  {
   "cell_type": "code",
   "execution_count": 7,
   "id": "8bc4fa8b",
   "metadata": {},
   "outputs": [
    {
     "name": "stdout",
     "output_type": "stream",
     "text": [
      "(8807, 11)\n"
     ]
    }
   ],
   "source": [
    "# Check shape of both data frames\n",
    "print(title_df.shape)"
   ]
  },
  {
   "cell_type": "code",
   "execution_count": 8,
   "id": "956c4022",
   "metadata": {},
   "outputs": [
    {
     "data": {
      "text/plain": [
       "type               2\n",
       "title           8807\n",
       "director        4528\n",
       "cast            7692\n",
       "country          748\n",
       "date_added      1767\n",
       "release_year      74\n",
       "rating            17\n",
       "duration         220\n",
       "listed_in        514\n",
       "description     8775\n",
       "dtype: int64"
      ]
     },
     "execution_count": 8,
     "metadata": {},
     "output_type": "execute_result"
    }
   ],
   "source": [
    "title_df.nunique()"
   ]
  },
  {
   "cell_type": "code",
   "execution_count": 9,
   "id": "6b007ad4",
   "metadata": {},
   "outputs": [
    {
     "data": {
      "text/html": [
       "<div>\n",
       "<style scoped>\n",
       "    .dataframe tbody tr th:only-of-type {\n",
       "        vertical-align: middle;\n",
       "    }\n",
       "\n",
       "    .dataframe tbody tr th {\n",
       "        vertical-align: top;\n",
       "    }\n",
       "\n",
       "    .dataframe thead th {\n",
       "        text-align: right;\n",
       "    }\n",
       "</style>\n",
       "<table border=\"1\" class=\"dataframe\">\n",
       "  <thead>\n",
       "    <tr style=\"text-align: right;\">\n",
       "      <th></th>\n",
       "      <th>release_year</th>\n",
       "    </tr>\n",
       "  </thead>\n",
       "  <tbody>\n",
       "    <tr>\n",
       "      <th>count</th>\n",
       "      <td>8807.000000</td>\n",
       "    </tr>\n",
       "    <tr>\n",
       "      <th>mean</th>\n",
       "      <td>2014.180198</td>\n",
       "    </tr>\n",
       "    <tr>\n",
       "      <th>std</th>\n",
       "      <td>8.819312</td>\n",
       "    </tr>\n",
       "    <tr>\n",
       "      <th>min</th>\n",
       "      <td>1925.000000</td>\n",
       "    </tr>\n",
       "    <tr>\n",
       "      <th>25%</th>\n",
       "      <td>2013.000000</td>\n",
       "    </tr>\n",
       "    <tr>\n",
       "      <th>50%</th>\n",
       "      <td>2017.000000</td>\n",
       "    </tr>\n",
       "    <tr>\n",
       "      <th>75%</th>\n",
       "      <td>2019.000000</td>\n",
       "    </tr>\n",
       "    <tr>\n",
       "      <th>max</th>\n",
       "      <td>2021.000000</td>\n",
       "    </tr>\n",
       "  </tbody>\n",
       "</table>\n",
       "</div>"
      ],
      "text/plain": [
       "       release_year\n",
       "count   8807.000000\n",
       "mean    2014.180198\n",
       "std        8.819312\n",
       "min     1925.000000\n",
       "25%     2013.000000\n",
       "50%     2017.000000\n",
       "75%     2019.000000\n",
       "max     2021.000000"
      ]
     },
     "execution_count": 9,
     "metadata": {},
     "output_type": "execute_result"
    }
   ],
   "source": [
    "#Summary statistics\n",
    "title_df.describe()"
   ]
  },
  {
   "cell_type": "code",
   "execution_count": null,
   "id": "daa7b386",
   "metadata": {},
   "outputs": [],
   "source": []
  },
  {
   "cell_type": "code",
   "execution_count": 10,
   "id": "df5289f0",
   "metadata": {},
   "outputs": [
    {
     "data": {
      "text/plain": [
       "type               0\n",
       "title              0\n",
       "director        2634\n",
       "cast             825\n",
       "country          831\n",
       "date_added        10\n",
       "release_year       0\n",
       "rating             4\n",
       "duration           3\n",
       "listed_in          0\n",
       "description        0\n",
       "dtype: int64"
      ]
     },
     "execution_count": 10,
     "metadata": {},
     "output_type": "execute_result"
    }
   ],
   "source": [
    "# Check for missing values\n",
    "title_df.isnull().sum()"
   ]
  },
  {
   "cell_type": "code",
   "execution_count": null,
   "id": "2932902d",
   "metadata": {},
   "outputs": [],
   "source": []
  },
  {
   "cell_type": "code",
   "execution_count": null,
   "id": "3898bea7",
   "metadata": {},
   "outputs": [],
   "source": []
  },
  {
   "cell_type": "markdown",
   "id": "57a6f81a",
   "metadata": {},
   "source": [
    "## <font color='Purple' face='Cursive'>Exploratory Data Analysis</font>"
   ]
  },
  {
   "cell_type": "code",
   "execution_count": 11,
   "id": "1baf8de2",
   "metadata": {},
   "outputs": [
    {
     "name": "stdout",
     "output_type": "stream",
     "text": [
      "Distribution of Types:\n",
      "type\n",
      "Movie      6131\n",
      "TV Show    2676\n",
      "Name: count, dtype: int64\n"
     ]
    }
   ],
   "source": [
    "# Distribution of Types\n",
    "type_distribution = title_df['type'].value_counts()\n",
    "print(\"Distribution of Types:\")\n",
    "print(type_distribution)"
   ]
  },
  {
   "cell_type": "raw",
   "id": "62eaaf26",
   "metadata": {},
   "source": []
  },
  {
   "cell_type": "markdown",
   "id": "bd698258",
   "metadata": {},
   "source": [
    "note:- The distribution of types in the dataset indicates that there are 6,131 movies and 2,676 TV shows. "
   ]
  },
  {
   "cell_type": "code",
   "execution_count": 12,
   "id": "ed250a5f",
   "metadata": {},
   "outputs": [
    {
     "name": "stderr",
     "output_type": "stream",
     "text": [
      "C:\\Users\\User\\anaconda3\\Lib\\site-packages\\seaborn\\_oldcore.py:1498: FutureWarning: is_categorical_dtype is deprecated and will be removed in a future version. Use isinstance(dtype, CategoricalDtype) instead\n",
      "  if pd.api.types.is_categorical_dtype(vector):\n",
      "C:\\Users\\User\\anaconda3\\Lib\\site-packages\\seaborn\\_oldcore.py:1498: FutureWarning: is_categorical_dtype is deprecated and will be removed in a future version. Use isinstance(dtype, CategoricalDtype) instead\n",
      "  if pd.api.types.is_categorical_dtype(vector):\n",
      "C:\\Users\\User\\anaconda3\\Lib\\site-packages\\seaborn\\_oldcore.py:1498: FutureWarning: is_categorical_dtype is deprecated and will be removed in a future version. Use isinstance(dtype, CategoricalDtype) instead\n",
      "  if pd.api.types.is_categorical_dtype(vector):\n"
     ]
    },
    {
     "data": {
      "image/png": "[encoded data removed]",
      "text/plain": [
       "<Figure size 800x400 with 1 Axes>"
      ]
     },
     "metadata": {},
     "output_type": "display_data"
    }
   ],
   "source": [
    "# Countplot for categorical features\n",
    "plt.figure(figsize=(8, 4))\n",
    "sns.countplot(x='type', data= title_df)\n",
    "plt.title('Count of Movies and TV Shows')\n",
    "plt.show()"
   ]
  },
  {
   "cell_type": "markdown",
   "id": "1a34afde",
   "metadata": {},
   "source": [
    "note:- he plot shows that there are more movies than TV shows in your dataset."
   ]
  },
  {
   "cell_type": "raw",
   "id": "44bfadf9",
   "metadata": {},
   "source": []
  },
  {
   "cell_type": "code",
   "execution_count": 13,
   "id": "6387ed2a",
   "metadata": {},
   "outputs": [
    {
     "data": {
      "image/png": "[encoded data removed]",
      "text/plain": [
       "<Figure size 800x400 with 1 Axes>"
      ]
     },
     "metadata": {},
     "output_type": "display_data"
    }
   ],
   "source": [
    "# Distribution of release_year\n",
    "title_df['release_year'].hist(bins=20, figsize=(8, 4))\n",
    "plt.suptitle('Histogram of Release Year')\n",
    "plt.show()"
   ]
  },
  {
   "cell_type": "markdown",
   "id": "d88b2343",
   "metadata": {},
   "source": [
    "note:- The histogram visualizes the distribution of the ‘release_year’ feature in your dataset. The x-axis represents the release years, and the y-axis represents the frequency of titles released in those years.\n",
    "\n",
    "From the plot, it’s evident that there’s a significant increase in the number of titles released after the year 2000. Very few titles were released before 1980, with a gradual increase observed from around 1980 to 2000. The highest frequency of releases is seen in recent years, around 2020. "
   ]
  },
  {
   "cell_type": "raw",
   "id": "e990bf3b",
   "metadata": {},
   "source": []
  },
  {
   "cell_type": "code",
   "execution_count": 15,
   "id": "7b649fa5",
   "metadata": {},
   "outputs": [
    {
     "data": {
      "image/png": "[encoded data removed]",
      "text/plain": [
       "<Figure size 800x400 with 1 Axes>"
      ]
     },
     "metadata": {},
     "output_type": "display_data"
    }
   ],
   "source": [
    "# Box plot for numerical features\n",
    "plt.figure(figsize=(8, 4))\n",
    "sns.boxplot(data=title_df['release_year'])\n",
    "plt.title('Box Plot of Numerical Features')\n",
    "plt.show()"
   ]
  },
  {
   "cell_type": "markdown",
   "id": "d7103a2d",
   "metadata": {},
   "source": [
    "note:- The box plot visualizes the distribution of the ‘release_year’ feature in our dataset. The median release year is around 2000, and the interquartile range (IQR) spans from 2000 to 2020. The plot shows variability outside the IQR with a lower whisker extending down to around 1960 and outliers representing unusually early release years. \n",
    "\n",
    "This visualization helps us understand the spread and skewness of our data and identify any anomalies or interesting patterns. It’s a crucial step in our data science project as it reveals insights that might not be apparent from the raw data."
   ]
  },
  {
   "cell_type": "markdown",
   "id": "ef853d83",
   "metadata": {},
   "source": [
    "# <font color='Purple' face='cursive'><center> Sentiment Analysis </center></font>"
   ]
  },
  {
   "cell_type": "markdown",
   "id": "b95629eb",
   "metadata": {},
   "source": [
    "Sentiment Analysis in Natural Language Processing (NLP) is a technique used to identify and extract subjective information from textual data1. It involves determining the sentiment or emotion expressed in a piece of text, which can be positive, negative, or neutral"
   ]
  },
  {
   "cell_type": "code",
   "execution_count": 17,
   "id": "b4469a63",
   "metadata": {},
   "outputs": [],
   "source": [
    "# Import Libraries for NLP\n",
    "import numpy as np\n",
    "import pandas as pd\n",
    "\n",
    "import matplotlib.pyplot as plt\n",
    "import seaborn as sns\n",
    "\n",
    "# Libraries for Sentiment Analysis\n",
    "from nltk.corpus import stopwords\n",
    "from nltk.stem import PorterStemmer\n",
    "from nltk.tokenize import word_tokenize\n",
    "from tensorflow.keras.preprocessing.text import Tokenizer\n",
    "from tensorflow.keras.preprocessing.sequence import pad_sequences\n",
    "from textblob import TextBlob\n",
    "from nltk.classify import NaiveBayesClassifier\n",
    "from nltk.corpus import subjectivity\n",
    "from nltk.sentiment import SentimentAnalyzer\n",
    "from nltk.sentiment.util import *\n",
    "from nltk.sentiment.vader import SentimentIntensityAnalyzer \n",
    "from nltk.sentiment import SentimentIntensityAnalyzer"
   ]
  },
  {
   "cell_type": "code",
   "execution_count": 18,
   "id": "202faeac",
   "metadata": {},
   "outputs": [],
   "source": [
    "# Read Data sets into the notebook\n",
    "title_df = pd.read_csv(r\"netflix_titles.csv\",lineterminator='\\n')"
   ]
  },
  {
   "cell_type": "code",
   "execution_count": null,
   "id": "81d1c6c1",
   "metadata": {},
   "outputs": [],
   "source": []
  },
  {
   "cell_type": "code",
   "execution_count": 19,
   "id": "01fe900b",
   "metadata": {},
   "outputs": [],
   "source": [
    "# Step 3: Text Preprocessing\n",
    "from nltk.tokenize import word_tokenize\n",
    "from nltk.corpus import stopwords\n",
    "from nltk.stem import WordNetLemmatizer\n",
    "import string"
   ]
  },
  {
   "cell_type": "code",
   "execution_count": 26,
   "id": "05362b0c",
   "metadata": {},
   "outputs": [
    {
     "name": "stderr",
     "output_type": "stream",
     "text": [
      "[nltk_data] Error loading punkt: <urlopen error [WinError 10060] A\n",
      "[nltk_data]     connection attempt failed because the connected party\n",
      "[nltk_data]     did not properly respond after a period of time, or\n",
      "[nltk_data]     established connection failed because connected host\n",
      "[nltk_data]     has failed to respond>\n",
      "[nltk_data] Error loading stopwords: <urlopen error [WinError 10060] A\n",
      "[nltk_data]     connection attempt failed because the connected party\n",
      "[nltk_data]     did not properly respond after a period of time, or\n",
      "[nltk_data]     established connection failed because connected host\n",
      "[nltk_data]     has failed to respond>\n",
      "[nltk_data] Error loading wordnet: <urlopen error [WinError 10060] A\n",
      "[nltk_data]     connection attempt failed because the connected party\n",
      "[nltk_data]     did not properly respond after a period of time, or\n",
      "[nltk_data]     established connection failed because connected host\n",
      "[nltk_data]     has failed to respond>\n"
     ]
    },
    {
     "data": {
      "text/plain": [
       "False"
      ]
     },
     "execution_count": 26,
     "metadata": {},
     "output_type": "execute_result"
    }
   ],
   "source": [
    "nltk.download('punkt')\n",
    "nltk.download('stopwords')\n",
    "nltk.download('wordnet')"
   ]
  },
  {
   "cell_type": "code",
   "execution_count": 27,
   "id": "d62123a4",
   "metadata": {},
   "outputs": [],
   "source": [
    "lemmatizer = WordNetLemmatizer()\n",
    "stop_words = set(stopwords.words('english'))"
   ]
  },
  {
   "cell_type": "code",
   "execution_count": 28,
   "id": "b509d239",
   "metadata": {},
   "outputs": [
    {
     "data": {
      "text/plain": [
       "<WordNetLemmatizer>"
      ]
     },
     "execution_count": 28,
     "metadata": {},
     "output_type": "execute_result"
    }
   ],
   "source": [
    "lemmatizer"
   ]
  },
  {
   "cell_type": "code",
   "execution_count": 29,
   "id": "cadfccd0",
   "metadata": {},
   "outputs": [
    {
     "data": {
      "text/plain": [
       "{'a',\n",
       " 'about',\n",
       " 'above',\n",
       " 'after',\n",
       " 'again',\n",
       " 'against',\n",
       " 'ain',\n",
       " 'all',\n",
       " 'am',\n",
       " 'an',\n",
       " 'and',\n",
       " 'any',\n",
       " 'are',\n",
       " 'aren',\n",
       " \"aren't\",\n",
       " 'as',\n",
       " 'at',\n",
       " 'be',\n",
       " 'because',\n",
       " 'been',\n",
       " 'before',\n",
       " 'being',\n",
       " 'below',\n",
       " 'between',\n",
       " 'both',\n",
       " 'but',\n",
       " 'by',\n",
       " 'can',\n",
       " 'couldn',\n",
       " \"couldn't\",\n",
       " 'd',\n",
       " 'did',\n",
       " 'didn',\n",
       " \"didn't\",\n",
       " 'do',\n",
       " 'does',\n",
       " 'doesn',\n",
       " \"doesn't\",\n",
       " 'doing',\n",
       " 'don',\n",
       " \"don't\",\n",
       " 'down',\n",
       " 'during',\n",
       " 'each',\n",
       " 'few',\n",
       " 'for',\n",
       " 'from',\n",
       " 'further',\n",
       " 'had',\n",
       " 'hadn',\n",
       " \"hadn't\",\n",
       " 'has',\n",
       " 'hasn',\n",
       " \"hasn't\",\n",
       " 'have',\n",
       " 'haven',\n",
       " \"haven't\",\n",
       " 'having',\n",
       " 'he',\n",
       " 'her',\n",
       " 'here',\n",
       " 'hers',\n",
       " 'herself',\n",
       " 'him',\n",
       " 'himself',\n",
       " 'his',\n",
       " 'how',\n",
       " 'i',\n",
       " 'if',\n",
       " 'in',\n",
       " 'into',\n",
       " 'is',\n",
       " 'isn',\n",
       " \"isn't\",\n",
       " 'it',\n",
       " \"it's\",\n",
       " 'its',\n",
       " 'itself',\n",
       " 'just',\n",
       " 'll',\n",
       " 'm',\n",
       " 'ma',\n",
       " 'me',\n",
       " 'mightn',\n",
       " \"mightn't\",\n",
       " 'more',\n",
       " 'most',\n",
       " 'mustn',\n",
       " \"mustn't\",\n",
       " 'my',\n",
       " 'myself',\n",
       " 'needn',\n",
       " \"needn't\",\n",
       " 'no',\n",
       " 'nor',\n",
       " 'not',\n",
       " 'now',\n",
       " 'o',\n",
       " 'of',\n",
       " 'off',\n",
       " 'on',\n",
       " 'once',\n",
       " 'only',\n",
       " 'or',\n",
       " 'other',\n",
       " 'our',\n",
       " 'ours',\n",
       " 'ourselves',\n",
       " 'out',\n",
       " 'over',\n",
       " 'own',\n",
       " 're',\n",
       " 's',\n",
       " 'same',\n",
       " 'shan',\n",
       " \"shan't\",\n",
       " 'she',\n",
       " \"she's\",\n",
       " 'should',\n",
       " \"should've\",\n",
       " 'shouldn',\n",
       " \"shouldn't\",\n",
       " 'so',\n",
       " 'some',\n",
       " 'such',\n",
       " 't',\n",
       " 'than',\n",
       " 'that',\n",
       " \"that'll\",\n",
       " 'the',\n",
       " 'their',\n",
       " 'theirs',\n",
       " 'them',\n",
       " 'themselves',\n",
       " 'then',\n",
       " 'there',\n",
       " 'these',\n",
       " 'they',\n",
       " 'this',\n",
       " 'those',\n",
       " 'through',\n",
       " 'to',\n",
       " 'too',\n",
       " 'under',\n",
       " 'until',\n",
       " 'up',\n",
       " 've',\n",
       " 'very',\n",
       " 'was',\n",
       " 'wasn',\n",
       " \"wasn't\",\n",
       " 'we',\n",
       " 'were',\n",
       " 'weren',\n",
       " \"weren't\",\n",
       " 'what',\n",
       " 'when',\n",
       " 'where',\n",
       " 'which',\n",
       " 'while',\n",
       " 'who',\n",
       " 'whom',\n",
       " 'why',\n",
       " 'will',\n",
       " 'with',\n",
       " 'won',\n",
       " \"won't\",\n",
       " 'wouldn',\n",
       " \"wouldn't\",\n",
       " 'y',\n",
       " 'you',\n",
       " \"you'd\",\n",
       " \"you'll\",\n",
       " \"you're\",\n",
       " \"you've\",\n",
       " 'your',\n",
       " 'yours',\n",
       " 'yourself',\n",
       " 'yourselves'}"
      ]
     },
     "execution_count": 29,
     "metadata": {},
     "output_type": "execute_result"
    }
   ],
   "source": [
    "stop_words"
   ]
  },
  {
   "cell_type": "code",
   "execution_count": null,
   "id": "fe492178",
   "metadata": {},
   "outputs": [],
   "source": []
  },
  {
   "cell_type": "code",
   "execution_count": 33,
   "id": "97e722db",
   "metadata": {},
   "outputs": [],
   "source": [
    "# Text Cleaning\n",
    "def clean_text(text):\n",
    "    if isinstance(text, str):\n",
    "        text = text.lower()  # Convert to lowercase\n",
    "        text = ' '.join([word for word in text.split() if word.isalnum()])  # Remove special characters\n",
    "    return text\n",
    "\n",
    "columns = ['type', 'title', 'director', 'cast', 'country', 'date_added', 'release_year', 'rating', 'duration', 'listed_in', 'description']\n",
    "for col in columns:\n",
    "    title_df[col] = title_df[col].apply(clean_text)"
   ]
  },
  {
   "cell_type": "markdown",
   "id": "cf1437e2",
   "metadata": {},
   "source": [
    "note:-   It converts text to lowercase and removes special characters. This is done for each specified column in the DataFrame title_df. "
   ]
  },
  {
   "cell_type": "raw",
   "id": "734cbbd7",
   "metadata": {},
   "source": []
  },
  {
   "cell_type": "code",
   "execution_count": 30,
   "id": "0989bd15",
   "metadata": {},
   "outputs": [],
   "source": [
    "stop_words = set(stopwords.words('english'))\n",
    "ps = PorterStemmer()\n",
    "\n",
    "def preprocess_text(text):\n",
    "    tokens = tokenizer.tokenize(text)\n",
    "    tokens = [ps.stem(token) for token in tokens if token not in stop_words]\n",
    "    return ' '.join(tokens)"
   ]
  },
  {
   "cell_type": "markdown",
   "id": "11a2eff1",
   "metadata": {},
   "source": [
    "note: - It tokenizes the text, removes English stopwords, and applies stemming using the Porter Stemmer. The processed tokens are then joined back into a string. This step further refines the text data for NLP tasks. "
   ]
  },
  {
   "cell_type": "raw",
   "id": "2f235f0a",
   "metadata": {},
   "source": []
  },
  {
   "cell_type": "code",
   "execution_count": 49,
   "id": "82a6b5e2",
   "metadata": {},
   "outputs": [
    {
     "name": "stderr",
     "output_type": "stream",
     "text": [
      "[nltk_data] Error loading stopwords: <urlopen error [WinError 10060] A\n",
      "[nltk_data]     connection attempt failed because the connected party\n",
      "[nltk_data]     did not properly respond after a period of time, or\n",
      "[nltk_data]     established connection failed because connected host\n",
      "[nltk_data]     has failed to respond>\n"
     ]
    }
   ],
   "source": [
    "from nltk.corpus import stopwords\n",
    "from nltk.tokenize import word_tokenize\n",
    "\n",
    "# Download the stopwords from NLTK\n",
    "nltk.download('stopwords')\n",
    "\n",
    "# Create a set of English stopwords\n",
    "stop_words = set(stopwords.words('english'))\n",
    "\n",
    "# Define a function to remove stopwords from text\n",
    "def remove_stopwords(text):\n",
    "    tokens = word_tokenize(text)\n",
    "    filtered_tokens = [word for word in tokens if word.lower() not in stop_words]\n",
    "    return ' '.join(filtered_tokens)\n",
    "\n",
    "# Apply the function to the 'description' column of your DataFrame\n",
    "title_df['description'] = title_df['description'].apply(remove_stopwords)\n"
   ]
  },
  {
   "cell_type": "markdown",
   "id": "8cc158a4",
   "metadata": {},
   "source": [
    "note: - Removing stopwords from the ‘description’ column of your DataFrame. It uses NLTK’s English stopwords list and the word_tokenize function to tokenize the text. The tokens are then filtered to remove stopwords, and the remaining tokens are joined back into a string. This step helps to focus on the important words in the text data for NLP tasks. "
   ]
  },
  {
   "cell_type": "raw",
   "id": "424c8bfc",
   "metadata": {},
   "source": []
  },
  {
   "cell_type": "code",
   "execution_count": 35,
   "id": "bd44ba07",
   "metadata": {},
   "outputs": [
    {
     "name": "stdout",
     "output_type": "stream",
     "text": [
      "\n",
      "Country Distribution:\n",
      "country\n",
      "united states           3036\n",
      "india                    977\n",
      "united kingdom           445\n",
      "japan                    248\n",
      "south korea              201\n",
      "canada                   192\n",
      "france                   167\n",
      "spain                    165\n",
      "united united states     135\n",
      "mexico                   115\n",
      "Name: count, dtype: int64\n"
     ]
    }
   ],
   "source": [
    "# Country Distribution\n",
    "country_distribution = title_df['country'].value_counts().head(10)\n",
    "print(\"\\nCountry Distribution:\")\n",
    "print(country_distribution)"
   ]
  },
  {
   "cell_type": "markdown",
   "id": "225877a9",
   "metadata": {},
   "source": [
    "note:- The ‘Country Distribution’ in your dataset shows the top 10 countries with the most titles. Here’s a brief summary:\n",
    "\n",
    "United States: The United States has the highest number of titles, with 3,036 entries.\n",
    "\n",
    "India: India comes second with 977 titles.\n",
    "\n",
    "United Kingdom: The United Kingdom has 445 titles.\n",
    "\n",
    "Japan: Japan has 248 titles.\n",
    "\n",
    "South Korea: South Korea has 201 titles.\n",
    "\n",
    "Canada: Canada has 192 titles.\n",
    "\n",
    "France: France has 167 titles.\n",
    "\n",
    "Spain: Spain has 165 titles.\n",
    "\n",
    "United United States: It seems like there might be a data entry error here, as ‘United United States’ is not a recognized country name. This category has 135 titles.\n",
    "\n",
    "Mexico: Mexico has 115 titles."
   ]
  },
  {
   "cell_type": "raw",
   "id": "5bef8f6f",
   "metadata": {},
   "source": []
  },
  {
   "cell_type": "code",
   "execution_count": 36,
   "id": "eaa282f6",
   "metadata": {},
   "outputs": [
    {
     "name": "stdout",
     "output_type": "stream",
     "text": [
      "\n",
      "Release Year Trends:\n",
      "release_year\n",
      "1925       1\n",
      "1942       2\n",
      "1943       3\n",
      "1944       3\n",
      "1945       4\n",
      "        ... \n",
      "2017    1032\n",
      "2018    1147\n",
      "2019    1030\n",
      "2020     953\n",
      "2021     592\n",
      "Length: 74, dtype: int64\n"
     ]
    }
   ],
   "source": [
    "# Release Year Trends\n",
    "release_year_trends = title_df.groupby('release_year').size()\n",
    "print(\"\\nRelease Year Trends:\")\n",
    "print(release_year_trends)"
   ]
  },
  {
   "cell_type": "markdown",
   "id": "90d3d7e2",
   "metadata": {},
   "source": [
    "note:- The ‘Release Year Trends’ in your dataset show the number of titles released each year. Here’s a brief summary:\n",
    "\n",
    "The dataset includes titles released from the year 1925 to 2021.\n",
    "\n",
    "The number of titles has generally increased over time, with a significant increase in recent years.\n",
    "\n",
    "The year with the most titles released is 2018, with 1,147 titles.\n",
    "\n",
    "The number of titles released in 2021 is 592, which is less than the previous years. This could be due to incomplete data for 2021 or a decrease in production.\n",
    "\n",
    "There are some years with very few titles released, such as 1925 with only one title."
   ]
  },
  {
   "cell_type": "code",
   "execution_count": null,
   "id": "ebd4ad42",
   "metadata": {},
   "outputs": [],
   "source": []
  },
  {
   "cell_type": "code",
   "execution_count": 37,
   "id": "c463b5a7",
   "metadata": {},
   "outputs": [
    {
     "name": "stdout",
     "output_type": "stream",
     "text": [
      "\n",
      "Rating Distribution:\n",
      "rating\n",
      "          7590\n",
      "r          799\n",
      "pg         287\n",
      "nr          80\n",
      "g           41\n",
      "ur           3\n",
      "74 min       1\n",
      "84 min       1\n",
      "66 min       1\n",
      "Name: count, dtype: int64\n"
     ]
    }
   ],
   "source": [
    "# Rating Distribution\n",
    "rating_distribution = title_df['rating'].value_counts()\n",
    "print(\"\\nRating Distribution:\")\n",
    "print(rating_distribution)"
   ]
  },
  {
   "cell_type": "markdown",
   "id": "00452ae2",
   "metadata": {},
   "source": [
    "note:-  The ‘Rating Distribution’ in your dataset shows the number of titles for each rating. Here’s a brief summary:\n",
    "\n",
    "TV-MA: This is the most common rating with 3,207 titles. It stands for “Mature Audience” and is intended for adults and may not be suitable for children under 17.\n",
    "\n",
    "TV-14: This rating has 2,160 titles. It suggests that the content may be unsuitable for children under 14.\n",
    "\n",
    "TV-PG: This rating has 863 titles. It indicates that parental guidance is recommended.\n",
    "\n",
    "R: This rating has 799 titles. It means “Restricted”, and parents are urged to learn more about the movie before taking their children to see it.\n",
    "\n",
    "PG-13: This rating has 490 titles. Parents are urged to be cautious and “Some material may be inappropriate for pre-teenagers”.\n",
    "\n",
    "TV-Y7: This rating has 334 titles. It is most appropriate for children age 7 and up.\n",
    "\n",
    "TV-Y: This rating has 307 titles. It is appropriate for all children.\n",
    "PG: This rating has 287 titles. It stands for “Parental Guidance” and some material may not be suitable for children.\n",
    "\n",
    "TV-G: This rating has 220 titles. It is suitable for all audiences.\n",
    "\n",
    "NR, G, TV-Y7-FV, NC-17, UR, and 74 min, 84 min, 66 min: These ratings have fewer titles, ranging from 80 to 1. It’s worth noting that “74 min”, “84 min”, and “66 min” seem to be errors as they are not recognized rating categories."
   ]
  },
  {
   "cell_type": "raw",
   "id": "b8ca2638",
   "metadata": {},
   "source": []
  },
  {
   "cell_type": "code",
   "execution_count": 38,
   "id": "a8336914",
   "metadata": {},
   "outputs": [
    {
     "name": "stdout",
     "output_type": "stream",
     "text": [
      "\n",
      "Genre Distribution:\n",
      "listed_in\n",
      "international movies                1004\n",
      "documentaries                        361\n",
      "international romantic movies        350\n",
      "comedy                               336\n",
      "action international movies          309\n",
      "independent international movies     274\n",
      "independent movies                   242\n",
      "tv                                   220\n",
      "children family movies               215\n",
      "international thrillers              215\n",
      "Name: count, dtype: int64\n"
     ]
    }
   ],
   "source": [
    "# Genre Distribution\n",
    "genre_distribution = title_df['listed_in'].value_counts().head(10)\n",
    "print(\"\\nGenre Distribution:\")\n",
    "print(genre_distribution)"
   ]
  },
  {
   "cell_type": "markdown",
   "id": "da2eec2e",
   "metadata": {},
   "source": [
    "note :- The ‘Genre Distribution’ in your dataset shows the top 10 genres with the most titles. Here’s a brief summary:\n",
    "\n",
    "International Movies: This is the most common genre with 1,004 titles.\n",
    "\n",
    "Documentaries: This genre has 361 titles.\n",
    "\n",
    "International Romantic Movies: This genre has 350 titles.\n",
    "\n",
    "Comedy: This genre has 336 titles.\n",
    "\n",
    "Action International Movies: This genre has 309 titles.\n",
    "\n",
    "Independent International Movies: This genre has 274 titles.\n",
    "\n",
    "Independent Movies: This genre has 242 titles.\n",
    "\n",
    "TV: This genre has 220 titles.\n",
    "\n",
    "Children Family Movies: This genre has 215 titles.\n",
    "\n",
    "International Thrillers: This genre also has 215 titles."
   ]
  },
  {
   "cell_type": "raw",
   "id": "02b2dc7b",
   "metadata": {},
   "source": []
  },
  {
   "cell_type": "code",
   "execution_count": 39,
   "id": "9228bbd9",
   "metadata": {},
   "outputs": [
    {
     "name": "stdout",
     "output_type": "stream",
     "text": [
      "\n",
      "Popular Genres:\n",
      "listed_in\n",
      "international movies                1004\n",
      "documentaries                        361\n",
      "international romantic movies        350\n",
      "comedy                               336\n",
      "action international movies          309\n",
      "independent international movies     274\n",
      "independent movies                   242\n",
      "tv                                   220\n",
      "children family movies               215\n",
      "international thrillers              215\n",
      "Name: count, dtype: int64\n"
     ]
    }
   ],
   "source": [
    "# Popular Genres\n",
    "popular_genres = title_df['listed_in'].str.split(', ').explode().value_counts().head(10)\n",
    "print(\"\\nPopular Genres:\")\n",
    "print(popular_genres) "
   ]
  },
  {
   "cell_type": "markdown",
   "id": "59203e15",
   "metadata": {},
   "source": [
    "note:- The ‘Genre Distribution’ in your dataset shows the top 10 genres with the most titles. Here’s a brief summary:\n",
    "\n",
    "International Movies: This is the most common genre with 1,004 titles.\n",
    "    \n",
    "Documentaries: This genre has 361 titles.\n",
    "    \n",
    "International Romantic Movies: This genre has 350 titles.\n",
    "    \n",
    "Comedy: This genre has 336 titles.\n",
    "    \n",
    "Action International Movies: This genre has 309 titles.\n",
    "    \n",
    "Independent International Movies: This genre has 274 titles.\n",
    "    \n",
    "Independent Movies: This genre has 242 titles.\n",
    "    \n",
    "TV: This genre has 220 titles.\n",
    "    \n",
    "Children Family Movies: This genre has 215 titles.\n",
    "    \n",
    "International Thrillers: This genre also has 215 titles."
   ]
  },
  {
   "cell_type": "markdown",
   "id": "1b45d2ec",
   "metadata": {},
   "source": []
  },
  {
   "cell_type": "code",
   "execution_count": 40,
   "id": "9b417f2b",
   "metadata": {},
   "outputs": [],
   "source": [
    "# Sentiment Analysis\n",
    "title_df['sentiment'] = title_df['description'].apply(lambda x: TextBlob(x).sentiment.polarity)\n",
    "\n",
    "# Text Length Analysis\n",
    "title_df['description_length'] = title_df['description'].apply(lambda x: len(x.split()))"
   ]
  },
  {
   "cell_type": "markdown",
   "id": "45360a2b",
   "metadata": {},
   "source": [
    " "
   ]
  },
  {
   "cell_type": "markdown",
   "id": "ad7b01fe",
   "metadata": {},
   "source": [
    "## <font color='Purple' face='Cursive'>Emotion Analysis</font>"
   ]
  },
  {
   "cell_type": "code",
   "execution_count": 44,
   "id": "7bcad514",
   "metadata": {},
   "outputs": [
    {
     "name": "stdout",
     "output_type": "stream",
     "text": [
      "DataFrame with Emotion Analysis:\n",
      "                           title  \\\n",
      "0           dick johnson is dead   \n",
      "1                    blood water   \n",
      "2                      ganglands   \n",
      "3          jailbirds new orleans   \n",
      "4                   kota factory   \n",
      "5                  midnight mass   \n",
      "6     my little a new generation   \n",
      "7                        sankofa   \n",
      "8  the great british baking show   \n",
      "9                   the starling   \n",
      "\n",
      "                                         description   emotion  \n",
      "0  father nears end life filmmaker kirsten johnso...  0.333333  \n",
      "1  crossing paths party cape town teen sets prove...  0.000000  \n",
      "2  protect family powerful drug lord skilled thie... -0.050000  \n",
      "3  feuds flirtations toilet talk go among incarce...  0.000758  \n",
      "4  city coaching centers known train india finest...  0.000000  \n",
      "5  arrival charismatic young priest brings glorio...  0.000000  \n",
      "6  equestria divided hero believes earth ponies p...  0.000000  \n",
      "7  photo shoot ghana american model slips back ti... -0.083333  \n",
      "8  talented batch amateur bakers face competition...  0.612500  \n",
      "9  woman adjusting life loss contends feisty bird...  0.000000  \n"
     ]
    }
   ],
   "source": [
    "# Apply sentiment analysis to the 'description' column\n",
    "title_df['emotion'] = title_df['description'].apply(lambda x: TextBlob(x).sentiment.polarity)\n",
    "\n",
    "# Display the dataframe with emotion analysis\n",
    "print(\"DataFrame with Emotion Analysis:\")\n",
    "print(title_df[['title', 'description', 'emotion']].head(10))"
   ]
  },
  {
   "cell_type": "markdown",
   "id": "d995acf4",
   "metadata": {},
   "source": [
    "note:-  The code  creates a new column called ‘emotion’ in your dataframe, which contains the sentiment polarity scores for each description. The sentiment polarity is a numerical value ranging from -1 to 1, where -1 means very negative, 0 means neutral, and 1 means very positive. For example, the description of ‘dick johnson is dead’ has a sentiment polarity of 0.333333, which indicates a slightly positive emotion.\n",
    "\n",
    "The code also prints the dataframe with the title, description, and emotion columns for the first 10 rows. "
   ]
  },
  {
   "cell_type": "raw",
   "id": "f61f76a1",
   "metadata": {},
   "source": []
  },
  {
   "cell_type": "code",
   "execution_count": 45,
   "id": "19475ff8",
   "metadata": {},
   "outputs": [
    {
     "name": "stdout",
     "output_type": "stream",
     "text": [
      "Sentiment Polarity: 0.22727272727272727\n",
      "Sentiment Subjectivity: 0.5454545454545454\n"
     ]
    }
   ],
   "source": [
    "from textblob import TextBlob\n",
    "\n",
    "# Sample text\n",
    "text = \"This is a positive sentiment example.\"\n",
    "\n",
    "# Sentiment Analysis\n",
    "blob = TextBlob(text)\n",
    "polarity = blob.sentiment.polarity\n",
    "subjectivity = blob.sentiment.subjectivity\n",
    "\n",
    "print(\"Sentiment Polarity:\", polarity)\n",
    "print(\"Sentiment Subjectivity:\", subjectivity)\n"
   ]
  },
  {
   "cell_type": "markdown",
   "id": "f99f6d30",
   "metadata": {},
   "source": [
    "note: - The sentiment polarity and subjectivity scores for the text. The sentiment polarity is a numerical value ranging from -1 to 1, where -1 means very negative, 0 means neutral, and 1 means very positive. The sentiment subjectivity is a numerical value ranging from 0 to 1, where 0 means very objective and 1 means very subjective.\n",
    "\n",
    "The output shows that the text has a positive sentiment polarity of 0.22727272727272727 and a moderate sentiment subjectivity of 0.54545454545454541\n",
    "\n",
    "\n"
   ]
  },
  {
   "cell_type": "raw",
   "id": "a32b4672",
   "metadata": {},
   "source": []
  },
  {
   "cell_type": "code",
   "execution_count": 48,
   "id": "aa26341d",
   "metadata": {},
   "outputs": [
    {
     "name": "stdout",
     "output_type": "stream",
     "text": [
      "DataFrame with Named Entities:\n",
      "                   title                                        description  \\\n",
      "0   dick johnson is dead  father nears end life filmmaker kirsten johnso...   \n",
      "1            blood water  crossing paths party cape town teen sets prove...   \n",
      "2              ganglands  protect family powerful drug lord skilled thie...   \n",
      "3  jailbirds new orleans  feuds flirtations toilet talk go among incarce...   \n",
      "4           kota factory  city coaching centers known train india finest...   \n",
      "\n",
      "                  ner_entities  \n",
      "0  [(kirsten johnson, PERSON)]  \n",
      "1                           []  \n",
      "2                           []  \n",
      "3         [(new orleans, GPE)]  \n",
      "4               [(india, GPE)]  \n"
     ]
    }
   ],
   "source": [
    "import spacy\n",
    "\n",
    "# Load spaCy English NER model\n",
    "nlp = spacy.load(\"en_core_web_sm\")\n",
    "\n",
    "# Apply NER to identify entities in the 'description' column\n",
    "title_df['ner_entities'] = title_df['description'].apply(lambda x: [(ent.text, ent.label_) for ent in nlp(x).ents])\n",
    "\n",
    "# Display the dataframe with NER entities\n",
    "print(\"DataFrame with Named Entities:\")\n",
    "print(title_df[['title', 'description', 'ner_entities']].head())\n"
   ]
  },
  {
   "cell_type": "code",
   "execution_count": null,
   "id": "a48fdde6",
   "metadata": {},
   "outputs": [],
   "source": []
  },
  {
   "cell_type": "code",
   "execution_count": 32,
   "id": "9732aecf",
   "metadata": {},
   "outputs": [
    {
     "name": "stdout",
     "output_type": "stream",
     "text": [
      "DataFrame with Emotion Analysis:\n",
      "                           title  \\\n",
      "0           dick johnson is dead   \n",
      "1                    blood water   \n",
      "2                      ganglands   \n",
      "3          jailbirds new orleans   \n",
      "4                   kota factory   \n",
      "5                  midnight mass   \n",
      "6     my little a new generation   \n",
      "7                        sankofa   \n",
      "8  the great british baking show   \n",
      "9                   the starling   \n",
      "\n",
      "                                         description   emotion  \n",
      "0  as her father nears the end of his filmmaker k...  0.500000  \n",
      "1  after crossing paths at a a cape town teen set...  0.000000  \n",
      "2  to protect his family from a powerful drug ski... -0.050000  \n",
      "3  flirtations and toilet talk go down among the ... -0.030505  \n",
      "4  in a city of coaching centers known to train f...  0.000000  \n",
      "5  the arrival of a charismatic young priest brin...  0.000000  \n",
      "6  but a hero believes earth pegasi and unicorns ...  0.000000  \n",
      "7  on a photo shoot in an american model slips ba...  0.000000  \n",
      "8  a talented batch of amateur bakers face off in...  0.483333  \n",
      "9  a woman adjusting to life after a loss contend...  0.000000  \n"
     ]
    }
   ],
   "source": [
    "from textblob import TextBlob\n",
    "\n",
    "# Apply sentiment analysis to the 'description' column\n",
    "title_df['emotion'] = title_df['description'].apply(lambda x: TextBlob(x).sentiment.polarity)\n",
    "\n",
    "# Display the dataframe with emotion analysis\n",
    "print(\"DataFrame with Emotion Analysis:\")\n",
    "print(title_df[['title', 'description', 'emotion']].head(10))\n"
   ]
  },
  {
   "cell_type": "markdown",
   "id": "bc1afadf",
   "metadata": {},
   "source": [
    "note:- The code calculates the sentiment polarity scores for each description. The sentiment polarity is a numerical value ranging from -1 to 1, where -1 means very negative, 0 means neutral, and 1 means very positive. For example, the description of ‘dick johnson is dead’ has a sentiment polarity of 0.5, which indicates a positive emotion."
   ]
  },
  {
   "cell_type": "code",
   "execution_count": null,
   "id": "05d83f92",
   "metadata": {},
   "outputs": [],
   "source": []
  },
  {
   "cell_type": "markdown",
   "id": "dc59e412",
   "metadata": {},
   "source": [
    "## <font color='Purple' face='Cursive'>Content Similarity:</font>"
   ]
  },
  {
   "cell_type": "code",
   "execution_count": 33,
   "id": "51679d70",
   "metadata": {},
   "outputs": [
    {
     "name": "stdout",
     "output_type": "stream",
     "text": [
      "Cosine Similarity Matrix:\n",
      "[[1. 0. 0. ... 0. 0. 0.]\n",
      " [0. 1. 0. ... 0. 0. 0.]\n",
      " [0. 0. 1. ... 0. 0. 0.]\n",
      " ...\n",
      " [0. 0. 0. ... 1. 0. 0.]\n",
      " [0. 0. 0. ... 0. 1. 0.]\n",
      " [0. 0. 0. ... 0. 0. 1.]]\n"
     ]
    }
   ],
   "source": [
    "from sklearn.feature_extraction.text import TfidfVectorizer\n",
    "from sklearn.metrics.pairwise import cosine_similarity\n",
    "\n",
    "# Use TF-IDF Vectorizer for content similarity\n",
    "tfidf_vectorizer = TfidfVectorizer(stop_words='english')\n",
    "tfidf_matrix = tfidf_vectorizer.fit_transform(title_df['description'].fillna(''))\n",
    "\n",
    "# Calculate cosine similarity matrix\n",
    "cosine_similarities = cosine_similarity(tfidf_matrix, tfidf_matrix)\n",
    "\n",
    "# Display the cosine similarity matrix\n",
    "print(\"Cosine Similarity Matrix:\")\n",
    "print(cosine_similarities)"
   ]
  },
  {
   "cell_type": "markdown",
   "id": "cbdbe5c9",
   "metadata": {},
   "source": [
    "note: - The code uses the TF-IDF Vectorizer to transform the text data into numerical vectors. TF-IDF stands for Term Frequency-Inverse Document Frequency, which is a way of weighting the words in a document based on how important they are. The more frequently a word appears in a document, the higher its term frequency. The more rarely a word appears in the whole corpus of documents, the higher its inverse document frequency. The product of these two values gives the TF-IDF score for each word in each document.\n",
    "\n",
    "The code then calculates the cosine similarity matrix for the TF-IDF vectors. Cosine similarity is a measure of how similar two vectors are based on the angle between them. The closer the angle is to zero, the higher the cosine similarity. The cosine similarity ranges from 0 to 1, where 0 means completely dissimilar and 1 means identical.\n",
    "\n",
    "The code also prints the cosine similarity matrix, which shows the pairwise similarity scores for each description. The matrix is symmetric, meaning that the similarity score between description A and description B is the same as the similarity score between description B and description A. The diagonal elements of the matrix are all 1, meaning that each description is perfectly similar to itself."
   ]
  },
  {
   "cell_type": "code",
   "execution_count": 34,
   "id": "051c31ff",
   "metadata": {},
   "outputs": [
    {
     "data": {
      "text/html": [
       "<div>\n",
       "<style scoped>\n",
       "    .dataframe tbody tr th:only-of-type {\n",
       "        vertical-align: middle;\n",
       "    }\n",
       "\n",
       "    .dataframe tbody tr th {\n",
       "        vertical-align: top;\n",
       "    }\n",
       "\n",
       "    .dataframe thead th {\n",
       "        text-align: right;\n",
       "    }\n",
       "</style>\n",
       "<table border=\"1\" class=\"dataframe\">\n",
       "  <thead>\n",
       "    <tr style=\"text-align: right;\">\n",
       "      <th></th>\n",
       "      <th>release_year</th>\n",
       "      <th>sentiment</th>\n",
       "      <th>description_length</th>\n",
       "      <th>emotion</th>\n",
       "    </tr>\n",
       "  </thead>\n",
       "  <tbody>\n",
       "    <tr>\n",
       "      <th>count</th>\n",
       "      <td>8807.000000</td>\n",
       "      <td>8807.000000</td>\n",
       "      <td>8807.000000</td>\n",
       "      <td>8807.000000</td>\n",
       "    </tr>\n",
       "    <tr>\n",
       "      <th>mean</th>\n",
       "      <td>2014.180198</td>\n",
       "      <td>0.060059</td>\n",
       "      <td>20.885318</td>\n",
       "      <td>0.060059</td>\n",
       "    </tr>\n",
       "    <tr>\n",
       "      <th>std</th>\n",
       "      <td>8.819312</td>\n",
       "      <td>0.268444</td>\n",
       "      <td>3.032082</td>\n",
       "      <td>0.268444</td>\n",
       "    </tr>\n",
       "    <tr>\n",
       "      <th>min</th>\n",
       "      <td>1925.000000</td>\n",
       "      <td>-1.000000</td>\n",
       "      <td>8.000000</td>\n",
       "      <td>-1.000000</td>\n",
       "    </tr>\n",
       "    <tr>\n",
       "      <th>25%</th>\n",
       "      <td>2013.000000</td>\n",
       "      <td>-0.050000</td>\n",
       "      <td>19.000000</td>\n",
       "      <td>-0.050000</td>\n",
       "    </tr>\n",
       "    <tr>\n",
       "      <th>50%</th>\n",
       "      <td>2017.000000</td>\n",
       "      <td>0.000000</td>\n",
       "      <td>21.000000</td>\n",
       "      <td>0.000000</td>\n",
       "    </tr>\n",
       "    <tr>\n",
       "      <th>75%</th>\n",
       "      <td>2019.000000</td>\n",
       "      <td>0.200000</td>\n",
       "      <td>23.000000</td>\n",
       "      <td>0.200000</td>\n",
       "    </tr>\n",
       "    <tr>\n",
       "      <th>max</th>\n",
       "      <td>2021.000000</td>\n",
       "      <td>1.000000</td>\n",
       "      <td>42.000000</td>\n",
       "      <td>1.000000</td>\n",
       "    </tr>\n",
       "  </tbody>\n",
       "</table>\n",
       "</div>"
      ],
      "text/plain": [
       "       release_year    sentiment  description_length      emotion\n",
       "count   8807.000000  8807.000000         8807.000000  8807.000000\n",
       "mean    2014.180198     0.060059           20.885318     0.060059\n",
       "std        8.819312     0.268444            3.032082     0.268444\n",
       "min     1925.000000    -1.000000            8.000000    -1.000000\n",
       "25%     2013.000000    -0.050000           19.000000    -0.050000\n",
       "50%     2017.000000     0.000000           21.000000     0.000000\n",
       "75%     2019.000000     0.200000           23.000000     0.200000\n",
       "max     2021.000000     1.000000           42.000000     1.000000"
      ]
     },
     "execution_count": 34,
     "metadata": {},
     "output_type": "execute_result"
    }
   ],
   "source": [
    "# Summary statistics\n",
    "title_df.describe()"
   ]
  },
  {
   "cell_type": "markdown",
   "id": "a3d9f734",
   "metadata": {},
   "source": [
    "note: - The output shos that the summary statistics for the release_year, sentiment, description_length, and emotion columns. You can use these statistics to get a sense of the distribution and variability of your data."
   ]
  },
  {
   "cell_type": "code",
   "execution_count": null,
   "id": "f00a90df",
   "metadata": {},
   "outputs": [],
   "source": []
  },
  {
   "cell_type": "code",
   "execution_count": null,
   "id": "ea517655",
   "metadata": {},
   "outputs": [],
   "source": []
  }
 ],
 "metadata": {
  "kernelspec": {
   "display_name": "Python 3 (ipykernel)",
   "language": "python",
   "name": "python3"
  },
  "language_info": {
   "codemirror_mode": {
    "name": "ipython",
    "version": 3
   },
   "file_extension": ".py",
   "mimetype": "text/x-python",
   "name": "python",
   "nbconvert_exporter": "python",
   "pygments_lexer": "ipython3",
   "version": "3.11.5"
  }
 },
 "nbformat": 4,
 "nbformat_minor": 5
}
